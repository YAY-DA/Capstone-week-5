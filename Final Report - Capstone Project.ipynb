{
 "cells": [
  {
   "cell_type": "markdown",
   "metadata": {},
   "source": [
    "## Paris -  Venues cluster\n"
   ]
  },
  {
   "cell_type": "markdown",
   "metadata": {},
   "source": [
    "### Probleme behaviour\n",
    "\n",
    "Paris (nicknamed the \"City of light\") is the capital city of France, and the largest city in France, Paris is also the center of French economy, politics, traffic and culture. Paris has many art museums(206) and historical buildings(2185). As a traffic center, Paris has a very good underground subway system (called the Metro),there are also 12,000 restaurants, 437 gardens.\n",
    "\n",
    "The insights derived from analysis will give good understanding of the **tourism agency environment** which help in strategically targeting the market. This will help in reduction of risk. And the Return on Investment will be reasonable."
   ]
  },
  {
   "cell_type": "markdown",
   "metadata": {},
   "source": [
    "### Probleme description\n",
    "\n",
    "As a tourism agency we need to know which neighberhood are the same to **optimise the customer journey** :\n",
    "- select **days by venues theme** that maximise the number of sight seeing \n",
    "- making the trip more profitable for the customer and therefore for the agencies too. \n",
    "- to make the visit more coherent with the places visited "
   ]
  },
  {
   "cell_type": "markdown",
   "metadata": {},
   "source": [
    "### Target Audience\n",
    "\n",
    "My Client is a tourism agency, so I will focus on Paris borough during my analysis. The objective is to determin the  4 types of  neighborhood of paris city . The Management also expects to understand the following points: \n",
    "\n",
    "- how many Boroughs and neighberhoods are in paris.\n",
    "- how much venues are in each cluster.\n",
    "- what are the particularities of each cluster.\n",
    "- What are the best 5 cluster to visit as a tourist\n",
    "\n",
    "This would interest anyone who wants to start an agency in Paris, and also someone how want to have a good journey in Paris."
   ]
  },
  {
   "cell_type": "markdown",
   "metadata": {},
   "source": [
    "## 2- data importing and description\n",
    "\n",
    " the data for paris borough, Neighborhood, coordonates from the official web site of the Paris town :\n",
    "https://opendata.paris.fr/explore/dataset/quartier_paris/information/\n",
    "\n",
    "selecting the data that interest us:\n",
    " - **Geometry X Y**\t: contain latitude and longitude of Neighborhood, we need to split this column into tow (longitude of latitude)\n",
    " - **L_QU** : contain the name of the Neighborhood\n",
    " - **C_AR** : containe the borough of each Neighborhood , you can check on the wiki page to know more about Paris :\n",
    " https://en.wikipedia.org/wiki/Quarters_of_Paris\n",
    " \n",
    " ##### - Neighborhood of paris on map\n",
    " <img src=\"paris neibor.PNG\">"
   ]
  },
  {
   "cell_type": "markdown",
   "metadata": {},
   "source": [
    "## 3. Methodology Section\n",
    "Clustering Approach:\n",
    "To compare the similarities of the paris venues, we decided to explore them, segment them, and group them into clusters to find similar venues in a big city like Paris. To be able to do that, we need to cluster data which is a form of unsupervised machine learning: k-means clustering algorithm.\n",
    "\n",
    "**Using K-Means Clustering Approach**\n",
    "\n",
    " <img src=\"clust.PNG\">\n"
   ]
  },
  {
   "cell_type": "markdown",
   "metadata": {},
   "source": [
    "#### Group data by Venues cathegory"
   ]
  },
  {
   "cell_type": "markdown",
   "metadata": {},
   "source": [
    "<img src=\"venues_cat.PNG\">"
   ]
  },
  {
   "cell_type": "markdown",
   "metadata": {},
   "source": [
    " - Restaurent and bars are the most venues in our dataset"
   ]
  },
  {
   "cell_type": "markdown",
   "metadata": {},
   "source": [
    "**Work Flow:**\n",
    "\n",
    "Using credentials of Foursquare API features of near-by places of the neighborhoods would be mined. Due to http request limitations the number of places per neighborhood parameter would reasonably be set to 100 and the radius parameter would be set to 500."
   ]
  },
  {
   "cell_type": "markdown",
   "metadata": {},
   "source": [
    "## 4. Results Section\n"
   ]
  },
  {
   "cell_type": "markdown",
   "metadata": {},
   "source": [
    "##### Map of Clusters in Scarborough\n",
    "\n"
   ]
  },
  {
   "cell_type": "markdown",
   "metadata": {},
   "source": [
    " <img src=\"Capture22.PNG\">"
   ]
  },
  {
   "cell_type": "markdown",
   "metadata": {},
   "source": [
    "**Foursquare API:**\n",
    "This project have used Four-square API as its prime data gathering source as it has a database of millions of places, especially their places API which provides the ability to perform location search, location sharing and details about a business."
   ]
  },
  {
   "cell_type": "markdown",
   "metadata": {},
   "source": [
    "## 5. Discussion Section\n",
    "\n",
    "**proposition for the Problem that we Tried to Solve:**\n",
    "\n",
    " - For hotels we choose clusters 1,4,6,7.\n",
    " - For meseum and garden we choose cluster 10.\n",
    " - For plaza we chosse cluster 6.\n",
    " - For bar we choose clusters 3,5,8,9."
   ]
  },
  {
   "cell_type": "markdown",
   "metadata": {},
   "source": [
    "## 6. Conclusion Section\n",
    "\n",
    "In this project, using k-means cluster algorithm I separated the neighborhood into 10(Ten) different clusters and for different lattitude and logitude from dataset, which have very-similar neighborhoods around them.\n",
    "\n",
    "I feel rewarded with the efforts and believe this course with all the topics covered is well worthy of appreciation. This project has shown me a practical application to resolve a real situation that has impacting personal and financial impact using Data Science tools. The mapping with Folium is a very powerful technique to consolidate information and make the analysis and decision better with confidence.\n",
    "\n",
    "Future Works:\n",
    "This project can be continued for making it more precise in terms to find best house in Scarborough. Best means on the basis of all required things(daily needs or things we need to live a better life) around and also in terms of cost effective."
   ]
  },
  {
   "cell_type": "code",
   "execution_count": null,
   "metadata": {},
   "outputs": [],
   "source": []
  }
 ],
 "metadata": {
  "kernelspec": {
   "display_name": "Python 3",
   "language": "python",
   "name": "python3"
  },
  "language_info": {
   "codemirror_mode": {
    "name": "ipython",
    "version": 3
   },
   "file_extension": ".py",
   "mimetype": "text/x-python",
   "name": "python",
   "nbconvert_exporter": "python",
   "pygments_lexer": "ipython3",
   "version": "3.8.3"
  }
 },
 "nbformat": 4,
 "nbformat_minor": 4
}
